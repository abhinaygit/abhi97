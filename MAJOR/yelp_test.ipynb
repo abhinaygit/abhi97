{
 "cells": [
  {
   "cell_type": "markdown",
   "id": "9a5727fe",
   "metadata": {},
   "source": [
    "# SENTIMENTAL ANALYSIS OF YELP REVIEWS FOR RESTAURANTS IN US"
   ]
  },
  {
   "cell_type": "markdown",
   "id": "ae2ef93d",
   "metadata": {},
   "source": [
    "Step 1 : Importing necessary libraries"
   ]
  },
  {
   "cell_type": "code",
   "execution_count": 2,
   "id": "15e5e34d",
   "metadata": {},
   "outputs": [],
   "source": [
    "import pandas as pd\n",
    "import numpy as np\n",
    "import matplotlib.pyplot as plt\n",
    "import seaborn as sns\n",
    "import nltk\n",
    "from nltk.corpus import stopwords\n",
    "import string\n",
    "import math\n",
    "from sklearn.feature_extraction.text import CountVectorizer\n",
    "from sklearn.model_selection import train_test_split, cross_val_score,GridSearchCV\n",
    "from sklearn.metrics import classification_report\n",
    "from sklearn.metrics import confusion_matrix, accuracy_score, roc_auc_score, roc_curve\n",
    "%matplotlib inline"
   ]
  },
  {
   "cell_type": "markdown",
   "id": "d526d372",
   "metadata": {},
   "source": [
    "Once we have all the above libraries imported we are ready to start the analysis"
   ]
  },
  {
   "cell_type": "markdown",
   "id": "3c38219b",
   "metadata": {},
   "source": [
    "////////////////////////********************\\\\\\\\\\\\\\\\\\\\\\\\\\\\\\\\\\\\\\\\\\\\\\\\\\\\\\\\\\\\\\\\\\\\\\\\\\\\\\\\\\\\\\\\\\"
   ]
  },
  {
   "cell_type": "markdown",
   "id": "bb627014",
   "metadata": {},
   "source": [
    "Step 2\n",
    "# Dataset"
   ]
  },
  {
   "cell_type": "markdown",
   "id": "ab88d62b",
   "metadata": {},
   "source": [
    "This dataset contains approx. 10000 entries. The column decscription is as follows:\n",
    "\n",
    "Column 1 - Unique Business ID\n",
    "\n",
    "Column 2 - Date of Review \n",
    "\n",
    "Column 3 - Review ID\n",
    "\n",
    "Column 4 - Stars given by the user\n",
    "\n",
    "Column 5 - Review given by the user\n",
    "\n",
    "Column 6 - Type of text entered - Review\n",
    "\n",
    "Column 7 - Unique User ID\n",
    "\n",
    "Column 8 - Cool column: The number of cool votes the review received\n",
    "\n",
    "Column 9 - Useful column: The number of useful votes the review received\n",
    "\n",
    "Column 10 - Funny Column: The number of funny votes the review received <br>\n"
   ]
  },
  {
   "cell_type": "code",
   "execution_count": 3,
   "id": "f346763b",
   "metadata": {},
   "outputs": [
    {
     "name": "stdout",
     "output_type": "stream",
     "text": [
      "Shape of the dataset:\n",
      "(10000, 10)\n",
      "Column names:\n",
      "Index(['business_id', 'date', 'review_id', 'stars', 'text', 'type', 'user_id',\n",
      "       'cool', 'useful', 'funny'],\n",
      "      dtype='object')\n",
      "Datatype of each column:\n",
      "business_id    object\n",
      "date           object\n",
      "review_id      object\n",
      "stars           int64\n",
      "text           object\n",
      "type           object\n",
      "user_id        object\n",
      "cool            int64\n",
      "useful          int64\n",
      "funny           int64\n",
      "dtype: object\n",
      "Few dataset entries:\n",
      "              business_id        date               review_id  stars  \\\n",
      "0  9yKzy9PApeiPPOUJEtnvkg  2011-01-26  fWKvX83p0-ka4JS3dc6E5A      5   \n",
      "1  ZRJwVLyzEJq1VAihDhYiow  2011-07-27  IjZ33sJrzXqU-0X6U8NwyA      5   \n",
      "2  6oRAC4uyJCsJl1X0WZpVSA  2012-06-14  IESLBzqUCLdSzSqm0eCSxQ      4   \n",
      "3  _1QQZuf4zZOyFCvXc0o6Vg  2010-05-27  G-WvGaISbqqaMHlNnByodA      5   \n",
      "4  6ozycU1RpktNG2-1BroVtw  2012-01-05  1uJFq2r5QfJG_6ExMRCaGw      5   \n",
      "\n",
      "                                                text    type  \\\n",
      "0  My wife took me here on my birthday for breakf...  review   \n",
      "1  I have no idea why some people give bad review...  review   \n",
      "2  love the gyro plate. Rice is so good and I als...  review   \n",
      "3  Rosie, Dakota, and I LOVE Chaparral Dog Park!!...  review   \n",
      "4  General Manager Scott Petello is a good egg!!!...  review   \n",
      "\n",
      "                  user_id  cool  useful  funny  \n",
      "0  rLtl8ZkDX5vH5nAx9C3q5Q     2       5      0  \n",
      "1  0a2KyEL0d3Yb1V6aivbIuQ     0       0      0  \n",
      "2  0hT2KtfLiobPvh6cDC8JQg     0       1      0  \n",
      "3  uZetl9T0NcROGOyFfughhg     1       2      0  \n",
      "4  vYmM4KTsC8ZfQBg-j5MWkw     0       0      0  \n"
     ]
    },
    {
     "data": {
      "text/html": [
       "<div>\n",
       "<style scoped>\n",
       "    .dataframe tbody tr th:only-of-type {\n",
       "        vertical-align: middle;\n",
       "    }\n",
       "\n",
       "    .dataframe tbody tr th {\n",
       "        vertical-align: top;\n",
       "    }\n",
       "\n",
       "    .dataframe thead th {\n",
       "        text-align: right;\n",
       "    }\n",
       "</style>\n",
       "<table border=\"1\" class=\"dataframe\">\n",
       "  <thead>\n",
       "    <tr style=\"text-align: right;\">\n",
       "      <th></th>\n",
       "      <th>business_id</th>\n",
       "      <th>date</th>\n",
       "      <th>review_id</th>\n",
       "      <th>stars</th>\n",
       "      <th>text</th>\n",
       "      <th>type</th>\n",
       "      <th>user_id</th>\n",
       "      <th>cool</th>\n",
       "      <th>useful</th>\n",
       "      <th>funny</th>\n",
       "    </tr>\n",
       "  </thead>\n",
       "  <tbody>\n",
       "    <tr>\n",
       "      <th>count</th>\n",
       "      <td>10000</td>\n",
       "      <td>10000</td>\n",
       "      <td>10000</td>\n",
       "      <td>10000.000000</td>\n",
       "      <td>10000</td>\n",
       "      <td>10000</td>\n",
       "      <td>10000</td>\n",
       "      <td>10000.000000</td>\n",
       "      <td>10000.000000</td>\n",
       "      <td>10000.000000</td>\n",
       "    </tr>\n",
       "    <tr>\n",
       "      <th>unique</th>\n",
       "      <td>4174</td>\n",
       "      <td>1995</td>\n",
       "      <td>10000</td>\n",
       "      <td>NaN</td>\n",
       "      <td>9998</td>\n",
       "      <td>1</td>\n",
       "      <td>6403</td>\n",
       "      <td>NaN</td>\n",
       "      <td>NaN</td>\n",
       "      <td>NaN</td>\n",
       "    </tr>\n",
       "    <tr>\n",
       "      <th>top</th>\n",
       "      <td>JokKtdXU7zXHcr20Lrk29A</td>\n",
       "      <td>2011-03-28</td>\n",
       "      <td>fWKvX83p0-ka4JS3dc6E5A</td>\n",
       "      <td>NaN</td>\n",
       "      <td>Great service</td>\n",
       "      <td>review</td>\n",
       "      <td>fczQCSmaWF78toLEmb0Zsw</td>\n",
       "      <td>NaN</td>\n",
       "      <td>NaN</td>\n",
       "      <td>NaN</td>\n",
       "    </tr>\n",
       "    <tr>\n",
       "      <th>freq</th>\n",
       "      <td>37</td>\n",
       "      <td>21</td>\n",
       "      <td>1</td>\n",
       "      <td>NaN</td>\n",
       "      <td>2</td>\n",
       "      <td>10000</td>\n",
       "      <td>38</td>\n",
       "      <td>NaN</td>\n",
       "      <td>NaN</td>\n",
       "      <td>NaN</td>\n",
       "    </tr>\n",
       "    <tr>\n",
       "      <th>mean</th>\n",
       "      <td>NaN</td>\n",
       "      <td>NaN</td>\n",
       "      <td>NaN</td>\n",
       "      <td>3.777500</td>\n",
       "      <td>NaN</td>\n",
       "      <td>NaN</td>\n",
       "      <td>NaN</td>\n",
       "      <td>0.876800</td>\n",
       "      <td>1.409300</td>\n",
       "      <td>0.701300</td>\n",
       "    </tr>\n",
       "    <tr>\n",
       "      <th>std</th>\n",
       "      <td>NaN</td>\n",
       "      <td>NaN</td>\n",
       "      <td>NaN</td>\n",
       "      <td>1.214636</td>\n",
       "      <td>NaN</td>\n",
       "      <td>NaN</td>\n",
       "      <td>NaN</td>\n",
       "      <td>2.067861</td>\n",
       "      <td>2.336647</td>\n",
       "      <td>1.907942</td>\n",
       "    </tr>\n",
       "    <tr>\n",
       "      <th>min</th>\n",
       "      <td>NaN</td>\n",
       "      <td>NaN</td>\n",
       "      <td>NaN</td>\n",
       "      <td>1.000000</td>\n",
       "      <td>NaN</td>\n",
       "      <td>NaN</td>\n",
       "      <td>NaN</td>\n",
       "      <td>0.000000</td>\n",
       "      <td>0.000000</td>\n",
       "      <td>0.000000</td>\n",
       "    </tr>\n",
       "    <tr>\n",
       "      <th>25%</th>\n",
       "      <td>NaN</td>\n",
       "      <td>NaN</td>\n",
       "      <td>NaN</td>\n",
       "      <td>3.000000</td>\n",
       "      <td>NaN</td>\n",
       "      <td>NaN</td>\n",
       "      <td>NaN</td>\n",
       "      <td>0.000000</td>\n",
       "      <td>0.000000</td>\n",
       "      <td>0.000000</td>\n",
       "    </tr>\n",
       "    <tr>\n",
       "      <th>50%</th>\n",
       "      <td>NaN</td>\n",
       "      <td>NaN</td>\n",
       "      <td>NaN</td>\n",
       "      <td>4.000000</td>\n",
       "      <td>NaN</td>\n",
       "      <td>NaN</td>\n",
       "      <td>NaN</td>\n",
       "      <td>0.000000</td>\n",
       "      <td>1.000000</td>\n",
       "      <td>0.000000</td>\n",
       "    </tr>\n",
       "    <tr>\n",
       "      <th>75%</th>\n",
       "      <td>NaN</td>\n",
       "      <td>NaN</td>\n",
       "      <td>NaN</td>\n",
       "      <td>5.000000</td>\n",
       "      <td>NaN</td>\n",
       "      <td>NaN</td>\n",
       "      <td>NaN</td>\n",
       "      <td>1.000000</td>\n",
       "      <td>2.000000</td>\n",
       "      <td>1.000000</td>\n",
       "    </tr>\n",
       "    <tr>\n",
       "      <th>max</th>\n",
       "      <td>NaN</td>\n",
       "      <td>NaN</td>\n",
       "      <td>NaN</td>\n",
       "      <td>5.000000</td>\n",
       "      <td>NaN</td>\n",
       "      <td>NaN</td>\n",
       "      <td>NaN</td>\n",
       "      <td>77.000000</td>\n",
       "      <td>76.000000</td>\n",
       "      <td>57.000000</td>\n",
       "    </tr>\n",
       "  </tbody>\n",
       "</table>\n",
       "</div>"
      ],
      "text/plain": [
       "                   business_id        date               review_id  \\\n",
       "count                    10000       10000                   10000   \n",
       "unique                    4174        1995                   10000   \n",
       "top     JokKtdXU7zXHcr20Lrk29A  2011-03-28  fWKvX83p0-ka4JS3dc6E5A   \n",
       "freq                        37          21                       1   \n",
       "mean                       NaN         NaN                     NaN   \n",
       "std                        NaN         NaN                     NaN   \n",
       "min                        NaN         NaN                     NaN   \n",
       "25%                        NaN         NaN                     NaN   \n",
       "50%                        NaN         NaN                     NaN   \n",
       "75%                        NaN         NaN                     NaN   \n",
       "max                        NaN         NaN                     NaN   \n",
       "\n",
       "               stars           text    type                 user_id  \\\n",
       "count   10000.000000          10000   10000                   10000   \n",
       "unique           NaN           9998       1                    6403   \n",
       "top              NaN  Great service  review  fczQCSmaWF78toLEmb0Zsw   \n",
       "freq             NaN              2   10000                      38   \n",
       "mean        3.777500            NaN     NaN                     NaN   \n",
       "std         1.214636            NaN     NaN                     NaN   \n",
       "min         1.000000            NaN     NaN                     NaN   \n",
       "25%         3.000000            NaN     NaN                     NaN   \n",
       "50%         4.000000            NaN     NaN                     NaN   \n",
       "75%         5.000000            NaN     NaN                     NaN   \n",
       "max         5.000000            NaN     NaN                     NaN   \n",
       "\n",
       "                cool        useful         funny  \n",
       "count   10000.000000  10000.000000  10000.000000  \n",
       "unique           NaN           NaN           NaN  \n",
       "top              NaN           NaN           NaN  \n",
       "freq             NaN           NaN           NaN  \n",
       "mean        0.876800      1.409300      0.701300  \n",
       "std         2.067861      2.336647      1.907942  \n",
       "min         0.000000      0.000000      0.000000  \n",
       "25%         0.000000      0.000000      0.000000  \n",
       "50%         0.000000      1.000000      0.000000  \n",
       "75%         1.000000      2.000000      1.000000  \n",
       "max        77.000000     76.000000     57.000000  "
      ]
     },
     "execution_count": 3,
     "metadata": {},
     "output_type": "execute_result"
    }
   ],
   "source": [
    "# LOADING THE DATASET AND SEEING THE DETAILS\n",
    "data = pd.read_csv(\"yelp.csv\")\n",
    "# SHAPE OF THE DATASET\n",
    "print(\"Shape of the dataset:\")\n",
    "print(data.shape)\n",
    "# COLUMN NAMES\n",
    "print(\"Column names:\")\n",
    "print(data.columns)\n",
    "# DATATYPE OF EACH COLUMN\n",
    "print(\"Datatype of each column:\")\n",
    "print(data.dtypes)\n",
    "# SEEING FEW OF THE ENTRIES\n",
    "print(\"Few dataset entries:\")\n",
    "print(data.head())\n",
    "# DATASET SUMMARY\n",
    "data.describe(include='all')"
   ]
  },
  {
   "cell_type": "markdown",
   "id": "b32b7e81",
   "metadata": {},
   "source": [
    "Next step is creating a new column for length of the review text"
   ]
  },
  {
   "cell_type": "code",
   "execution_count": 4,
   "id": "1dc52321",
   "metadata": {},
   "outputs": [
    {
     "data": {
      "text/html": [
       "<div>\n",
       "<style scoped>\n",
       "    .dataframe tbody tr th:only-of-type {\n",
       "        vertical-align: middle;\n",
       "    }\n",
       "\n",
       "    .dataframe tbody tr th {\n",
       "        vertical-align: top;\n",
       "    }\n",
       "\n",
       "    .dataframe thead th {\n",
       "        text-align: right;\n",
       "    }\n",
       "</style>\n",
       "<table border=\"1\" class=\"dataframe\">\n",
       "  <thead>\n",
       "    <tr style=\"text-align: right;\">\n",
       "      <th></th>\n",
       "      <th>business_id</th>\n",
       "      <th>date</th>\n",
       "      <th>review_id</th>\n",
       "      <th>stars</th>\n",
       "      <th>text</th>\n",
       "      <th>type</th>\n",
       "      <th>user_id</th>\n",
       "      <th>cool</th>\n",
       "      <th>useful</th>\n",
       "      <th>funny</th>\n",
       "      <th>length</th>\n",
       "    </tr>\n",
       "  </thead>\n",
       "  <tbody>\n",
       "    <tr>\n",
       "      <th>0</th>\n",
       "      <td>9yKzy9PApeiPPOUJEtnvkg</td>\n",
       "      <td>2011-01-26</td>\n",
       "      <td>fWKvX83p0-ka4JS3dc6E5A</td>\n",
       "      <td>5</td>\n",
       "      <td>My wife took me here on my birthday for breakf...</td>\n",
       "      <td>review</td>\n",
       "      <td>rLtl8ZkDX5vH5nAx9C3q5Q</td>\n",
       "      <td>2</td>\n",
       "      <td>5</td>\n",
       "      <td>0</td>\n",
       "      <td>889</td>\n",
       "    </tr>\n",
       "    <tr>\n",
       "      <th>1</th>\n",
       "      <td>ZRJwVLyzEJq1VAihDhYiow</td>\n",
       "      <td>2011-07-27</td>\n",
       "      <td>IjZ33sJrzXqU-0X6U8NwyA</td>\n",
       "      <td>5</td>\n",
       "      <td>I have no idea why some people give bad review...</td>\n",
       "      <td>review</td>\n",
       "      <td>0a2KyEL0d3Yb1V6aivbIuQ</td>\n",
       "      <td>0</td>\n",
       "      <td>0</td>\n",
       "      <td>0</td>\n",
       "      <td>1345</td>\n",
       "    </tr>\n",
       "    <tr>\n",
       "      <th>2</th>\n",
       "      <td>6oRAC4uyJCsJl1X0WZpVSA</td>\n",
       "      <td>2012-06-14</td>\n",
       "      <td>IESLBzqUCLdSzSqm0eCSxQ</td>\n",
       "      <td>4</td>\n",
       "      <td>love the gyro plate. Rice is so good and I als...</td>\n",
       "      <td>review</td>\n",
       "      <td>0hT2KtfLiobPvh6cDC8JQg</td>\n",
       "      <td>0</td>\n",
       "      <td>1</td>\n",
       "      <td>0</td>\n",
       "      <td>76</td>\n",
       "    </tr>\n",
       "    <tr>\n",
       "      <th>3</th>\n",
       "      <td>_1QQZuf4zZOyFCvXc0o6Vg</td>\n",
       "      <td>2010-05-27</td>\n",
       "      <td>G-WvGaISbqqaMHlNnByodA</td>\n",
       "      <td>5</td>\n",
       "      <td>Rosie, Dakota, and I LOVE Chaparral Dog Park!!...</td>\n",
       "      <td>review</td>\n",
       "      <td>uZetl9T0NcROGOyFfughhg</td>\n",
       "      <td>1</td>\n",
       "      <td>2</td>\n",
       "      <td>0</td>\n",
       "      <td>419</td>\n",
       "    </tr>\n",
       "    <tr>\n",
       "      <th>4</th>\n",
       "      <td>6ozycU1RpktNG2-1BroVtw</td>\n",
       "      <td>2012-01-05</td>\n",
       "      <td>1uJFq2r5QfJG_6ExMRCaGw</td>\n",
       "      <td>5</td>\n",
       "      <td>General Manager Scott Petello is a good egg!!!...</td>\n",
       "      <td>review</td>\n",
       "      <td>vYmM4KTsC8ZfQBg-j5MWkw</td>\n",
       "      <td>0</td>\n",
       "      <td>0</td>\n",
       "      <td>0</td>\n",
       "      <td>469</td>\n",
       "    </tr>\n",
       "  </tbody>\n",
       "</table>\n",
       "</div>"
      ],
      "text/plain": [
       "              business_id        date               review_id  stars  \\\n",
       "0  9yKzy9PApeiPPOUJEtnvkg  2011-01-26  fWKvX83p0-ka4JS3dc6E5A      5   \n",
       "1  ZRJwVLyzEJq1VAihDhYiow  2011-07-27  IjZ33sJrzXqU-0X6U8NwyA      5   \n",
       "2  6oRAC4uyJCsJl1X0WZpVSA  2012-06-14  IESLBzqUCLdSzSqm0eCSxQ      4   \n",
       "3  _1QQZuf4zZOyFCvXc0o6Vg  2010-05-27  G-WvGaISbqqaMHlNnByodA      5   \n",
       "4  6ozycU1RpktNG2-1BroVtw  2012-01-05  1uJFq2r5QfJG_6ExMRCaGw      5   \n",
       "\n",
       "                                                text    type  \\\n",
       "0  My wife took me here on my birthday for breakf...  review   \n",
       "1  I have no idea why some people give bad review...  review   \n",
       "2  love the gyro plate. Rice is so good and I als...  review   \n",
       "3  Rosie, Dakota, and I LOVE Chaparral Dog Park!!...  review   \n",
       "4  General Manager Scott Petello is a good egg!!!...  review   \n",
       "\n",
       "                  user_id  cool  useful  funny  length  \n",
       "0  rLtl8ZkDX5vH5nAx9C3q5Q     2       5      0     889  \n",
       "1  0a2KyEL0d3Yb1V6aivbIuQ     0       0      0    1345  \n",
       "2  0hT2KtfLiobPvh6cDC8JQg     0       1      0      76  \n",
       "3  uZetl9T0NcROGOyFfughhg     1       2      0     419  \n",
       "4  vYmM4KTsC8ZfQBg-j5MWkw     0       0      0     469  "
      ]
     },
     "execution_count": 4,
     "metadata": {},
     "output_type": "execute_result"
    }
   ],
   "source": [
    "data['length'] = data['text'].apply(len)\n",
    "data.head()"
   ]
  },
  {
   "cell_type": "markdown",
   "id": "e8d4e659",
   "metadata": {},
   "source": [
    "//////////////////***************\\\\\\\\\\\\\\\\\\\\\\\\\\\\\\\\\\\\\\\\\\\\\\\\\\\\\\\\\\\\\\\\\\\\\\\\\\\\"
   ]
  },
  {
   "cell_type": "markdown",
   "id": "d36a2f52",
   "metadata": {},
   "source": [
    "Step 3\n",
    "# Data visualization\n"
   ]
  },
  {
   "cell_type": "markdown",
   "id": "a664543f",
   "metadata": {},
   "source": [
    "We visualize the relation between some of the predictor variables"
   ]
  },
  {
   "cell_type": "markdown",
   "id": "f527d83c",
   "metadata": {},
   "source": [
    "(i) Stars and length of the review"
   ]
  },
  {
   "cell_type": "code",
   "execution_count": 8,
   "id": "1631430b",
   "metadata": {},
   "outputs": [
    {
     "data": {
      "text/plain": [
       "<seaborn.axisgrid.FacetGrid at 0x7fcae1534f10>"
      ]
     },
     "execution_count": 8,
     "metadata": {},
     "output_type": "execute_result"
    },
    {
     "data": {
      "image/png": "[encoded data removed]",
      "text/plain": [
       "<Figure size 1080x216 with 5 Axes>"
      ]
     },
     "metadata": {
      "needs_background": "light"
     },
     "output_type": "display_data"
    }
   ],
   "source": [
    "graph = sns.FacetGrid(data=data,col='stars')\n",
    "graph.map(plt.hist,'length',bins=50,color='red')"
   ]
  },
  {
   "cell_type": "code",
   "execution_count": 38,
   "id": "c7dc7e6b",
   "metadata": {},
   "outputs": [
    {
     "data": {
      "image/png": "[encoded data removed]",
      "text/plain": [
       "<Figure size 432x288 with 1 Axes>"
      ]
     },
     "metadata": {
      "needs_background": "light"
     },
     "output_type": "display_data"
    }
   ],
   "source": [
    "# EDA\n",
    "sns.countplot(x='stars', data=data)\n",
    "plt.title('Distribution of Star Ratings')\n",
    "plt.xlabel('Star Rating')\n",
    "plt.ylabel('Count')\n",
    "plt.show()"
   ]
  },
  {
   "cell_type": "code",
   "execution_count": 39,
   "id": "29bba916",
   "metadata": {},
   "outputs": [
    {
     "data": {
      "image/png": "[encoded data removed]",
      "text/plain": [
       "<Figure size 864x432 with 2 Axes>"
      ]
     },
     "metadata": {
      "needs_background": "light"
     },
     "output_type": "display_data"
    }
   ],
   "source": [
    "corr_matrix = data.corr()\n",
    "\n",
    "plt.figure(figsize=(12, 6))\n",
    "sns.heatmap(corr_matrix, annot=True, cmap='coolwarm')\n",
    "plt.title('Correlation Heatmap')\n",
    "plt.show()"
   ]
  },
  {
   "cell_type": "code",
   "execution_count": 40,
   "id": "13006f86",
   "metadata": {},
   "outputs": [
    {
     "data": {
      "image/png": "[encoded data removed]",
      "text/plain": [
       "<Figure size 432x288 with 1 Axes>"
      ]
     },
     "metadata": {
      "needs_background": "light"
     },
     "output_type": "display_data"
    }
   ],
   "source": [
    "# Calculate the average length of reviews by star rating\n",
    "\n",
    "avg_length = data.groupby('stars')['length'].mean()\n",
    "plt.bar(avg_length.index, avg_length.values)\n",
    "plt.xlabel('Star rating')\n",
    "plt.ylabel('Average review length')\n",
    "plt.title('Average review length by star rating')\n",
    "plt.show()"
   ]
  },
  {
   "cell_type": "markdown",
   "id": "bbc9c7a2",
   "metadata": {},
   "source": [
    "(ii) Mean value of three review columns: Cool, funny, useful in relation with stars"
   ]
  },
  {
   "cell_type": "code",
   "execution_count": 9,
   "id": "1147bac2",
   "metadata": {},
   "outputs": [
    {
     "data": {
      "text/html": [
       "<div>\n",
       "<style scoped>\n",
       "    .dataframe tbody tr th:only-of-type {\n",
       "        vertical-align: middle;\n",
       "    }\n",
       "\n",
       "    .dataframe tbody tr th {\n",
       "        vertical-align: top;\n",
       "    }\n",
       "\n",
       "    .dataframe thead th {\n",
       "        text-align: right;\n",
       "    }\n",
       "</style>\n",
       "<table border=\"1\" class=\"dataframe\">\n",
       "  <thead>\n",
       "    <tr style=\"text-align: right;\">\n",
       "      <th></th>\n",
       "      <th>cool</th>\n",
       "      <th>useful</th>\n",
       "      <th>funny</th>\n",
       "      <th>length</th>\n",
       "    </tr>\n",
       "    <tr>\n",
       "      <th>stars</th>\n",
       "      <th></th>\n",
       "      <th></th>\n",
       "      <th></th>\n",
       "      <th></th>\n",
       "    </tr>\n",
       "  </thead>\n",
       "  <tbody>\n",
       "    <tr>\n",
       "      <th>1</th>\n",
       "      <td>0.576769</td>\n",
       "      <td>1.604806</td>\n",
       "      <td>1.056075</td>\n",
       "      <td>826.515354</td>\n",
       "    </tr>\n",
       "    <tr>\n",
       "      <th>2</th>\n",
       "      <td>0.719525</td>\n",
       "      <td>1.563107</td>\n",
       "      <td>0.875944</td>\n",
       "      <td>842.256742</td>\n",
       "    </tr>\n",
       "    <tr>\n",
       "      <th>3</th>\n",
       "      <td>0.788501</td>\n",
       "      <td>1.306639</td>\n",
       "      <td>0.694730</td>\n",
       "      <td>758.498289</td>\n",
       "    </tr>\n",
       "    <tr>\n",
       "      <th>4</th>\n",
       "      <td>0.954623</td>\n",
       "      <td>1.395916</td>\n",
       "      <td>0.670448</td>\n",
       "      <td>712.923142</td>\n",
       "    </tr>\n",
       "    <tr>\n",
       "      <th>5</th>\n",
       "      <td>0.944261</td>\n",
       "      <td>1.381780</td>\n",
       "      <td>0.608631</td>\n",
       "      <td>624.999101</td>\n",
       "    </tr>\n",
       "  </tbody>\n",
       "</table>\n",
       "</div>"
      ],
      "text/plain": [
       "           cool    useful     funny      length\n",
       "stars                                          \n",
       "1      0.576769  1.604806  1.056075  826.515354\n",
       "2      0.719525  1.563107  0.875944  842.256742\n",
       "3      0.788501  1.306639  0.694730  758.498289\n",
       "4      0.954623  1.395916  0.670448  712.923142\n",
       "5      0.944261  1.381780  0.608631  624.999101"
      ]
     },
     "execution_count": 9,
     "metadata": {},
     "output_type": "execute_result"
    }
   ],
   "source": [
    "mean_val = data.groupby('stars').mean()\n",
    "mean_val"
   ]
  },
  {
   "cell_type": "markdown",
   "id": "8040b8ac",
   "metadata": {},
   "source": [
    "(iii) Corelation between the review columns"
   ]
  },
  {
   "cell_type": "code",
   "execution_count": 10,
   "id": "1d87c0e5",
   "metadata": {},
   "outputs": [
    {
     "data": {
      "text/html": [
       "<div>\n",
       "<style scoped>\n",
       "    .dataframe tbody tr th:only-of-type {\n",
       "        vertical-align: middle;\n",
       "    }\n",
       "\n",
       "    .dataframe tbody tr th {\n",
       "        vertical-align: top;\n",
       "    }\n",
       "\n",
       "    .dataframe thead th {\n",
       "        text-align: right;\n",
       "    }\n",
       "</style>\n",
       "<table border=\"1\" class=\"dataframe\">\n",
       "  <thead>\n",
       "    <tr style=\"text-align: right;\">\n",
       "      <th></th>\n",
       "      <th>cool</th>\n",
       "      <th>useful</th>\n",
       "      <th>funny</th>\n",
       "      <th>length</th>\n",
       "    </tr>\n",
       "  </thead>\n",
       "  <tbody>\n",
       "    <tr>\n",
       "      <th>cool</th>\n",
       "      <td>1.000000</td>\n",
       "      <td>-0.743329</td>\n",
       "      <td>-0.944939</td>\n",
       "      <td>-0.857664</td>\n",
       "    </tr>\n",
       "    <tr>\n",
       "      <th>useful</th>\n",
       "      <td>-0.743329</td>\n",
       "      <td>1.000000</td>\n",
       "      <td>0.894506</td>\n",
       "      <td>0.699881</td>\n",
       "    </tr>\n",
       "    <tr>\n",
       "      <th>funny</th>\n",
       "      <td>-0.944939</td>\n",
       "      <td>0.894506</td>\n",
       "      <td>1.000000</td>\n",
       "      <td>0.843461</td>\n",
       "    </tr>\n",
       "    <tr>\n",
       "      <th>length</th>\n",
       "      <td>-0.857664</td>\n",
       "      <td>0.699881</td>\n",
       "      <td>0.843461</td>\n",
       "      <td>1.000000</td>\n",
       "    </tr>\n",
       "  </tbody>\n",
       "</table>\n",
       "</div>"
      ],
      "text/plain": [
       "            cool    useful     funny    length\n",
       "cool    1.000000 -0.743329 -0.944939 -0.857664\n",
       "useful -0.743329  1.000000  0.894506  0.699881\n",
       "funny  -0.944939  0.894506  1.000000  0.843461\n",
       "length -0.857664  0.699881  0.843461  1.000000"
      ]
     },
     "execution_count": 10,
     "metadata": {},
     "output_type": "execute_result"
    }
   ],
   "source": [
    "mean_val.corr()"
   ]
  },
  {
   "cell_type": "markdown",
   "id": "d1ecffb2",
   "metadata": {},
   "source": [
    "From the above matrix, we can see that there is negative corelation between \n",
    "* Cool and Useful\n",
    "* Cool and Funny\n",
    "* Cool and Length"
   ]
  },
  {
   "cell_type": "markdown",
   "id": "704af603",
   "metadata": {},
   "source": [
    "And, positive corelation between\n",
    "\n",
    "* Funny and Useful    \n",
    "* Funny and Length\n",
    "* Useful and Length"
   ]
  },
  {
   "cell_type": "markdown",
   "id": "4abad4dc",
   "metadata": {},
   "source": [
    "(iv) Classifying the data"
   ]
  },
  {
   "cell_type": "code",
   "execution_count": 11,
   "id": "084fc98f",
   "metadata": {},
   "outputs": [
    {
     "name": "stdout",
     "output_type": "stream",
     "text": [
      "(10000, 11)\n",
      "0    My wife took me here on my birthday for breakf...\n",
      "1    I have no idea why some people give bad review...\n",
      "2    love the gyro plate. Rice is so good and I als...\n",
      "3    Rosie, Dakota, and I LOVE Chaparral Dog Park!!...\n",
      "4    General Manager Scott Petello is a good egg!!!...\n",
      "Name: text, dtype: object\n",
      "0    5\n",
      "1    5\n",
      "2    4\n",
      "3    5\n",
      "4    5\n",
      "Name: stars, dtype: int64\n"
     ]
    }
   ],
   "source": [
    "data_classes = data[(data['stars']==1)| (data['stars']==2) | (data['stars']==3) | (data['stars']==4) | (data['stars']==5)]\n",
    "data_classes.head()\n",
    "print(data_classes.shape)\n",
    "\n",
    "# Seperate the dataset into X and Y for prediction\n",
    "x = data_classes['text']\n",
    "y = data_classes['stars']\n",
    "print(x.head())\n",
    "print(y.head())"
   ]
  },
  {
   "cell_type": "markdown",
   "id": "d06f7636",
   "metadata": {},
   "source": [
    "/////////////////////////*********************\\\\\\\\\\\\\\\\\\\\\\\\\\\\\\\\\\\\\\\\\\\\\\\\\\\\\\\\\\\\\\\\\\\\\\\\\\\\\\\\\\\\\\\\\\\\\\\\\\\\"
   ]
  },
  {
   "cell_type": "markdown",
   "id": "52006b98",
   "metadata": {},
   "source": [
    "Step 4\n",
    "# Data Cleaning"
   ]
  },
  {
   "cell_type": "markdown",
   "id": "5a440795",
   "metadata": {},
   "source": [
    "(i) Removing stopwords and punctuation from the review text"
   ]
  },
  {
   "cell_type": "code",
   "execution_count": 12,
   "id": "8a1d7908",
   "metadata": {},
   "outputs": [],
   "source": [
    "def text_process(text):\n",
    "    nopunc = [char for char in text if char not in string.punctuation]\n",
    "    nopunc = ''.join(nopunc)\n",
    "    return [word for word in nopunc.split() if word.lower() not in stopwords.words('english')]"
   ]
  },
  {
   "cell_type": "markdown",
   "id": "5855936a",
   "metadata": {},
   "source": [
    "(ii) Vectorization : Vectorization or word embedding is the process of converting text data to numerical vectors."
   ]
  },
  {
   "cell_type": "code",
   "execution_count": 13,
   "id": "93034dca",
   "metadata": {},
   "outputs": [
    {
     "name": "stdout",
     "output_type": "stream",
     "text": [
      "44012\n",
      "My wife took me here on my birthday for breakfast and it was excellent.  The weather was perfect which made sitting outside overlooking their grounds an absolute pleasure.  Our waitress was excellent and our food arrived quickly on the semi-busy Saturday morning.  It looked like the place fills up pretty quickly so the earlier you get here the better.\n",
      "\n",
      "Do yourself a favor and get their Bloody Mary.  It was phenomenal and simply the best I've ever had.  I'm pretty sure they only use ingredients from their garden and blend them fresh when you order it.  It was amazing.\n",
      "\n",
      "While EVERYTHING on the menu looks excellent, I had the white truffle scrambled eggs vegetable skillet and it was tasty and delicious.  It came with 2 pieces of their griddled bread with was amazing and it absolutely made the meal complete.  It was the best \"toast\" I've ever had.\n",
      "\n",
      "Anyway, I can't wait to go back!\n",
      "  (0, 417)\t1\n",
      "  (0, 1759)\t1\n",
      "  (0, 2614)\t1\n",
      "  (0, 5093)\t1\n",
      "  (0, 7275)\t1\n",
      "  (0, 7452)\t2\n",
      "  (0, 8904)\t1\n",
      "  (0, 12129)\t1\n",
      "  (0, 15180)\t1\n",
      "  (0, 15181)\t1\n",
      "  (0, 15823)\t2\n",
      "  (0, 16295)\t1\n",
      "  (0, 16708)\t1\n",
      "  (0, 17324)\t2\n",
      "  (0, 17345)\t1\n",
      "  (0, 17469)\t1\n",
      "  (0, 17587)\t1\n",
      "  (0, 17981)\t1\n",
      "  (0, 18005)\t1\n",
      "  (0, 18618)\t1\n",
      "  (0, 18682)\t1\n",
      "  (0, 20145)\t1\n",
      "  (0, 21684)\t1\n",
      "  (0, 22947)\t1\n",
      "  (0, 23100)\t1\n",
      "  :\t:\n",
      "  (0, 32793)\t1\n",
      "  (0, 33471)\t1\n",
      "  (0, 33601)\t1\n",
      "  (0, 33701)\t1\n",
      "  (0, 33861)\t1\n",
      "  (0, 33995)\t1\n",
      "  (0, 34511)\t2\n",
      "  (0, 35081)\t2\n",
      "  (0, 37071)\t1\n",
      "  (0, 37310)\t1\n",
      "  (0, 37932)\t1\n",
      "  (0, 38000)\t1\n",
      "  (0, 38053)\t1\n",
      "  (0, 39858)\t1\n",
      "  (0, 40310)\t1\n",
      "  (0, 41022)\t1\n",
      "  (0, 41140)\t1\n",
      "  (0, 41552)\t1\n",
      "  (0, 42281)\t1\n",
      "  (0, 42436)\t1\n",
      "  (0, 42757)\t1\n",
      "  (0, 42783)\t1\n",
      "  (0, 43043)\t1\n",
      "  (0, 43309)\t1\n",
      "  (0, 43372)\t1\n",
      "Getting the words back:\n",
      "cleanish\n",
      "Phoenician\n"
     ]
    }
   ],
   "source": [
    "vocab = CountVectorizer(analyzer=text_process).fit(x)\n",
    "print(len(vocab.vocabulary_))\n",
    "r0 = x[0]\n",
    "print(r0)\n",
    "vocab0 = vocab.transform([r0])\n",
    "print(vocab0)\n",
    "\"\"\"\n",
    "    Now the words in the review number 78 have been converted into a vector.\n",
    "    The data that we can see is the transformed words.\n",
    "    If we now get the feature's name - we can get the word back!\n",
    "\"\"\"\n",
    "print(\"Getting the words back:\")\n",
    "print(vocab.get_feature_names()[19648])\n",
    "print(vocab.get_feature_names()[10643])"
   ]
  },
  {
   "cell_type": "markdown",
   "id": "dba46201",
   "metadata": {},
   "source": [
    "In the above script, we vectorized one review text. Now, we will vectorize the whole set."
   ]
  },
  {
   "cell_type": "code",
   "execution_count": 19,
   "id": "09b13046",
   "metadata": {},
   "outputs": [
    {
     "name": "stdout",
     "output_type": "stream",
     "text": [
      "Shape of the sparse matrix:  (10000, 44012)\n",
      "Non-Zero occurences:  583230\n",
      "Density of the matrix =  0.1325161319640098\n"
     ]
    }
   ],
   "source": [
    "x = vocab.transform(x)\n",
    "#Shape of the matrix:\n",
    "print(\"Shape of the sparse matrix: \", x.shape)\n",
    "#Non-zero occurences:\n",
    "print(\"Non-Zero occurences: \",x.nnz)\n",
    "\n",
    "# DENSITY OF THE MATRIX\n",
    "density = (x.nnz/(x.shape[0]*x.shape[1]))*100\n",
    "print(\"Density of the matrix = \",density)"
   ]
  },
  {
   "cell_type": "markdown",
   "id": "1c7e7028",
   "metadata": {},
   "source": [
    "\n",
    "(iii) Data split"
   ]
  },
  {
   "cell_type": "markdown",
   "id": "c4911526",
   "metadata": {},
   "source": [
    "Splitted the data into 80% training data and 20% testing data"
   ]
  },
  {
   "cell_type": "code",
   "execution_count": 20,
   "id": "44567693",
   "metadata": {},
   "outputs": [],
   "source": [
    "x_train,x_test,y_train,y_test = train_test_split(x,y,test_size=0.2,random_state=101)"
   ]
  },
  {
   "cell_type": "markdown",
   "id": "52de3051",
   "metadata": {},
   "source": [
    "//////////////////////////*************************\\\\\\\\\\\\\\\\\\\\\\\\\\\\\\\\\\\\\\\\\\\\\\\\\\\\\\\\\\\\\\\\\\\\\\\\\\\\\\\\\\\\\\\\\\\\\\\\\\\\\n"
   ]
  },
  {
   "cell_type": "markdown",
   "id": "ff37d45e",
   "metadata": {},
   "source": [
    "# Data Modelling"
   ]
  },
  {
   "cell_type": "markdown",
   "id": "e118558f",
   "metadata": {},
   "source": [
    "We will now use multiple machine learning algorithms and compare them. Setting all the parameters default after repeated parameter tuning for all the models."
   ]
  },
  {
   "cell_type": "markdown",
   "id": "89c3bdaf",
   "metadata": {},
   "source": [
    "1) Multinomial Naive Bayes: The multinomial Naive Bayes classifier is suitable for classification with discrete features (e.g., word counts for text classification).\n",
    "\n"
   ]
  },
  {
   "cell_type": "code",
   "execution_count": 26,
   "id": "6aa8951b",
   "metadata": {},
   "outputs": [
    {
     "name": "stdout",
     "output_type": "stream",
     "text": [
      "Confusion Matrix for Multinomial Naive Bayes:\n",
      "[[ 30  24  15  55  21]\n",
      " [  6   6  18 133  15]\n",
      " [  2   2  15 246  38]\n",
      " [  4   3  15 548 143]\n",
      " [  2   2   8 286 363]]\n",
      "Score: 48.1\n",
      "Classification Report:               precision    recall  f1-score   support\n",
      "\n",
      "           1       0.68      0.21      0.32       145\n",
      "           2       0.16      0.03      0.06       178\n",
      "           3       0.21      0.05      0.08       303\n",
      "           4       0.43      0.77      0.55       713\n",
      "           5       0.63      0.55      0.59       661\n",
      "\n",
      "    accuracy                           0.48      2000\n",
      "   macro avg       0.42      0.32      0.32      2000\n",
      "weighted avg       0.46      0.48      0.43      2000\n",
      "\n"
     ]
    }
   ],
   "source": [
    "from sklearn.naive_bayes import MultinomialNB\n",
    "mnb = MultinomialNB()\n",
    "mnb.fit(x_train,y_train)\n",
    "predmnb = mnb.predict(x_test)\n",
    "print(\"Confusion Matrix for Multinomial Naive Bayes:\")\n",
    "print(confusion_matrix(y_test,predmnb))\n",
    "print(\"Score:\",round(accuracy_score(y_test,predmnb)*100,2))\n",
    "print(\"Classification Report:\",classification_report(y_test,predmnb))"
   ]
  },
  {
   "cell_type": "markdown",
   "id": "a6ec0105",
   "metadata": {},
   "source": [
    "We can see that accuracy is low at 48%\n",
    "*********************************"
   ]
  },
  {
   "cell_type": "markdown",
   "id": "1804ff39",
   "metadata": {},
   "source": [
    "2) Random forest classifier: A random forest is a meta estimator that fits a number of decision tree classifiers \n",
    "on various sub-samples of the dataset and uses averaging to improve the predictive accuracy and control over-fitting."
   ]
  },
  {
   "cell_type": "code",
   "execution_count": 27,
   "id": "791dbdcb",
   "metadata": {},
   "outputs": [
    {
     "name": "stdout",
     "output_type": "stream",
     "text": [
      "Confusion Matrix for Random Forest Classifier:\n",
      "[[ 23   7   1  69  45]\n",
      " [  3   3   5 133  34]\n",
      " [  0   3   5 239  56]\n",
      " [  1   3   5 500 204]\n",
      " [  0   1   1 259 400]]\n",
      "Score: 46.55\n",
      "Classification Report:               precision    recall  f1-score   support\n",
      "\n",
      "           1       0.85      0.16      0.27       145\n",
      "           2       0.18      0.02      0.03       178\n",
      "           3       0.29      0.02      0.03       303\n",
      "           4       0.42      0.70      0.52       713\n",
      "           5       0.54      0.61      0.57       661\n",
      "\n",
      "    accuracy                           0.47      2000\n",
      "   macro avg       0.46      0.30      0.28      2000\n",
      "weighted avg       0.45      0.47      0.40      2000\n",
      "\n"
     ]
    }
   ],
   "source": [
    "from sklearn.ensemble import RandomForestClassifier\n",
    "rmfr = RandomForestClassifier()\n",
    "rmfr.fit(x_train,y_train)\n",
    "predrmfr = rmfr.predict(x_test)\n",
    "print(\"Confusion Matrix for Random Forest Classifier:\")\n",
    "print(confusion_matrix(y_test,predrmfr))\n",
    "print(\"Score:\",round(accuracy_score(y_test,predrmfr)*100,2))\n",
    "print(\"Classification Report:\",classification_report(y_test,predrmfr))"
   ]
  },
  {
   "cell_type": "markdown",
   "id": "51d3c3d7",
   "metadata": {},
   "source": [
    "Even this algorithm has less accuracy.\n",
    "*****"
   ]
  },
  {
   "cell_type": "markdown",
   "id": "2f1dd22a",
   "metadata": {},
   "source": [
    "3) Decision tree classifier: DecisionTreeClassifier is a class capable of performing multi-class classification on a dataset. In case that there are multiple classes with the same and highest probability, the classifier will predict the class with the lowest index amongst those classes\n"
   ]
  },
  {
   "cell_type": "code",
   "execution_count": 28,
   "id": "732e5faf",
   "metadata": {},
   "outputs": [
    {
     "name": "stdout",
     "output_type": "stream",
     "text": [
      "Confusion Matrix for Decision Tree:\n",
      "[[ 35  26  21  40  23]\n",
      " [ 27  29  30  55  37]\n",
      " [ 12  40  67 116  68]\n",
      " [ 32  51  90 312 228]\n",
      " [ 28  24  58 239 312]]\n",
      "Score: 37.75\n",
      "Classification Report:               precision    recall  f1-score   support\n",
      "\n",
      "           1       0.26      0.24      0.25       145\n",
      "           2       0.17      0.16      0.17       178\n",
      "           3       0.25      0.22      0.24       303\n",
      "           4       0.41      0.44      0.42       713\n",
      "           5       0.47      0.47      0.47       661\n",
      "\n",
      "    accuracy                           0.38      2000\n",
      "   macro avg       0.31      0.31      0.31      2000\n",
      "weighted avg       0.37      0.38      0.37      2000\n",
      "\n"
     ]
    }
   ],
   "source": [
    "from sklearn.tree import DecisionTreeClassifier\n",
    "dt = DecisionTreeClassifier()\n",
    "dt.fit(x_train,y_train)\n",
    "preddt = dt.predict(x_test)\n",
    "print(\"Confusion Matrix for Decision Tree:\")\n",
    "print(confusion_matrix(y_test,preddt))\n",
    "print(\"Score:\",round(accuracy_score(y_test,preddt)*100,2))\n",
    "print(\"Classification Report:\",classification_report(y_test,preddt))"
   ]
  },
  {
   "cell_type": "markdown",
   "id": "99d37554",
   "metadata": {},
   "source": [
    "***\n"
   ]
  },
  {
   "cell_type": "markdown",
   "id": "abea273e",
   "metadata": {},
   "source": [
    "4) Support Vector Machine: Support vector machines (SVMs) are a set of supervised learning methods used for classification, regression and outliers detection."
   ]
  },
  {
   "cell_type": "code",
   "execution_count": 29,
   "id": "3a5b5605",
   "metadata": {},
   "outputs": [
    {
     "name": "stdout",
     "output_type": "stream",
     "text": [
      "Confusion Matrix for Support Vector Machines:\n",
      "[[ 25  10   1  60  49]\n",
      " [  7  18   9 112  32]\n",
      " [  2   1  26 217  57]\n",
      " [  1   0   4 476 232]\n",
      " [  0   1   0 228 432]]\n",
      "Score: 48.85\n",
      "Classification Report:               precision    recall  f1-score   support\n",
      "\n",
      "           1       0.71      0.17      0.28       145\n",
      "           2       0.60      0.10      0.17       178\n",
      "           3       0.65      0.09      0.15       303\n",
      "           4       0.44      0.67      0.53       713\n",
      "           5       0.54      0.65      0.59       661\n",
      "\n",
      "    accuracy                           0.49      2000\n",
      "   macro avg       0.59      0.34      0.34      2000\n",
      "weighted avg       0.54      0.49      0.44      2000\n",
      "\n"
     ]
    }
   ],
   "source": [
    "from sklearn.svm import SVC\n",
    "svm = SVC(random_state=101)\n",
    "svm.fit(x_train,y_train)\n",
    "predsvm = svm.predict(x_test)\n",
    "print(\"Confusion Matrix for Support Vector Machines:\")\n",
    "print(confusion_matrix(y_test,predsvm))\n",
    "print(\"Score:\",round(accuracy_score(y_test,predsvm)*100,2))\n",
    "print(\"Classification Report:\",classification_report(y_test,predsvm))"
   ]
  },
  {
   "cell_type": "markdown",
   "id": "198cb22e",
   "metadata": {},
   "source": [
    "***"
   ]
  },
  {
   "cell_type": "markdown",
   "id": "1b4e4bf6",
   "metadata": {},
   "source": [
    "5) Gradient Boosting Classifier: Gradient boosting algorithm can be used for predicting not only continuous target variable (as a Regressor) but also categorical target variable (as a Classifier)."
   ]
  },
  {
   "cell_type": "code",
   "execution_count": 31,
   "id": "5dea1d13",
   "metadata": {},
   "outputs": [
    {
     "data": {
      "text/plain": [
       "\"# parameter evaluation\\ngbe = GradientBoostingClassifier(random_state=0)\\nparameters = {\\n     'learning_rate': [0.05, 0.1, 0.5],\\n    'max_features': [0.5, 1],\\n    'max_depth': [3, 4, 5]}\\ngridsearch=GridSearchCV(gbe,parameters,cv=100,scoring='roc_auc')\\ngridsearch.fit(x,y)\\nprint(gridsearch.best_params_)\\nprint(gridsearch.best_score_)\""
      ]
     },
     "execution_count": 31,
     "metadata": {},
     "output_type": "execute_result"
    }
   ],
   "source": [
    "# Here, we are setting the parameters after the below parameter tuning:\n",
    "\"\"\"# parameter evaluation\n",
    "gbe = GradientBoostingClassifier(random_state=0)\n",
    "parameters = {\n",
    "     'learning_rate': [0.05, 0.1, 0.5],\n",
    "    'max_features': [0.5, 1],\n",
    "    'max_depth': [3, 4, 5]}\n",
    "gridsearch=GridSearchCV(gbe,parameters,cv=100,scoring='roc_auc')\n",
    "gridsearch.fit(x,y)\n",
    "print(gridsearch.best_params_)\n",
    "print(gridsearch.best_score_)\"\"\"\n"
   ]
  },
  {
   "cell_type": "markdown",
   "id": "bb0fc4fd",
   "metadata": {},
   "source": [
    "As it takes a lot of time in executing the parameter tuning, it is not directly ran in this script. However, below parameters are best for final model fitting. "
   ]
  },
  {
   "cell_type": "code",
   "execution_count": 30,
   "id": "f29a145d",
   "metadata": {},
   "outputs": [
    {
     "name": "stdout",
     "output_type": "stream",
     "text": [
      "Confusion Matrix for Gradient Boosting Classifier:\n",
      "[[ 47  13  12  35  38]\n",
      " [ 19  15  24  85  35]\n",
      " [  6  17  46 178  56]\n",
      " [  6  12  20 416 259]\n",
      " [  2   4  11 207 437]]\n",
      "Score: 48.05\n",
      "Classification Report:               precision    recall  f1-score   support\n",
      "\n",
      "           1       0.59      0.32      0.42       145\n",
      "           2       0.25      0.08      0.13       178\n",
      "           3       0.41      0.15      0.22       303\n",
      "           4       0.45      0.58      0.51       713\n",
      "           5       0.53      0.66      0.59       661\n",
      "\n",
      "    accuracy                           0.48      2000\n",
      "   macro avg       0.44      0.36      0.37      2000\n",
      "weighted avg       0.46      0.48      0.45      2000\n",
      "\n"
     ]
    }
   ],
   "source": [
    "from sklearn.ensemble import GradientBoostingClassifier\n",
    "gbi = GradientBoostingClassifier(learning_rate=0.1,max_depth=5,max_features=0.5,random_state=999999)\n",
    "gbi.fit(x_train,y_train)\n",
    "predgbi = gbi.predict(x_test)\n",
    "print(\"Confusion Matrix for Gradient Boosting Classifier:\")\n",
    "print(confusion_matrix(y_test,predgbi))\n",
    "print(\"Score:\",round(accuracy_score(y_test,predgbi)*100,2))\n",
    "print(\"Classification Report:\",classification_report(y_test,predgbi))"
   ]
  },
  {
   "cell_type": "markdown",
   "id": "33aa91db",
   "metadata": {},
   "source": [
    "The accuracy of gradient boost classifier is 48%\n",
    "***"
   ]
  },
  {
   "cell_type": "markdown",
   "id": "8ea6221b",
   "metadata": {},
   "source": [
    "6) KNN classifier: K-nearest neighbors classifier is a non-parametric, supervised learning classifier, which uses proximity to make classifications or predictions about the grouping of an individual data point."
   ]
  },
  {
   "cell_type": "code",
   "execution_count": 32,
   "id": "e77bdbdd",
   "metadata": {},
   "outputs": [
    {
     "name": "stdout",
     "output_type": "stream",
     "text": [
      "Confusion Matrix for K Neighbors Classifier:\n",
      "[[ 21   3  15  28  78]\n",
      " [ 18   1   7  54  98]\n",
      " [ 27   5  15 111 145]\n",
      " [ 37   2  16 245 413]\n",
      " [ 33   4  10 156 458]]\n",
      "Score:  37.0\n",
      "Classification Report:\n",
      "              precision    recall  f1-score   support\n",
      "\n",
      "           1       0.15      0.14      0.15       145\n",
      "           2       0.07      0.01      0.01       178\n",
      "           3       0.24      0.05      0.08       303\n",
      "           4       0.41      0.34      0.37       713\n",
      "           5       0.38      0.69      0.49       661\n",
      "\n",
      "    accuracy                           0.37      2000\n",
      "   macro avg       0.25      0.25      0.22      2000\n",
      "weighted avg       0.33      0.37      0.32      2000\n",
      "\n"
     ]
    }
   ],
   "source": [
    "from sklearn.neighbors import KNeighborsClassifier\n",
    "knn = KNeighborsClassifier(n_neighbors=10)\n",
    "knn.fit(x_train,y_train)\n",
    "predknn = knn.predict(x_test)\n",
    "print(\"Confusion Matrix for K Neighbors Classifier:\")\n",
    "print(confusion_matrix(y_test,predknn))\n",
    "print(\"Score: \",round(accuracy_score(y_test,predknn)*100,2))\n",
    "print(\"Classification Report:\")\n",
    "print(classification_report(y_test,predknn))"
   ]
  },
  {
   "cell_type": "markdown",
   "id": "0f469134",
   "metadata": {},
   "source": [
    "***\n",
    "7) XG boost classifier: Boosting is an ensemble modelling, technique that attempts to build a strong classifier from the number of weak classifiers.\n"
   ]
  },
  {
   "cell_type": "code",
   "execution_count": 33,
   "id": "6b2b5a20",
   "metadata": {},
   "outputs": [
    {
     "name": "stderr",
     "output_type": "stream",
     "text": [
      "/Users/abhinay/opt/anaconda3/lib/python3.9/site-packages/xgboost/sklearn.py:1224: UserWarning: The use of label encoder in XGBClassifier is deprecated and will be removed in a future release. To remove this warning, do the following: 1) Pass option use_label_encoder=False when constructing XGBClassifier object; and 2) Encode your labels (y) as integers starting with 0, i.e. 0, 1, 2, ..., [num_class - 1].\n",
      "  warnings.warn(label_encoder_deprecation_msg, UserWarning)\n"
     ]
    },
    {
     "name": "stdout",
     "output_type": "stream",
     "text": [
      "[02:45:20] WARNING: /Users/runner/miniforge3/conda-bld/xgboost-split_1645117948562/work/src/learner.cc:1115: Starting in XGBoost 1.3.0, the default evaluation metric used with the objective 'multi:softprob' was changed from 'merror' to 'mlogloss'. Explicitly set eval_metric if you'd like to restore the old behavior.\n",
      "Confusion Matrix for XGBoost Classifier:\n",
      "[[ 51  23  10  33  28]\n",
      " [ 26  27  34  56  35]\n",
      " [  7  24  49 163  60]\n",
      " [  6   9  42 416 240]\n",
      " [  5   2   9 230 415]]\n",
      "Score:  47.9\n",
      "Classification Report:\n",
      "              precision    recall  f1-score   support\n",
      "\n",
      "           1       0.54      0.35      0.42       145\n",
      "           2       0.32      0.15      0.21       178\n",
      "           3       0.34      0.16      0.22       303\n",
      "           4       0.46      0.58      0.52       713\n",
      "           5       0.53      0.63      0.58       661\n",
      "\n",
      "    accuracy                           0.48      2000\n",
      "   macro avg       0.44      0.38      0.39      2000\n",
      "weighted avg       0.46      0.48      0.46      2000\n",
      "\n"
     ]
    }
   ],
   "source": [
    "import xgboost\n",
    "from xgboost import XGBClassifier\n",
    "xgb = XGBClassifier()\n",
    "xgb.fit(x_train,y_train)\n",
    "predxgb = xgb.predict(x_test)\n",
    "print(\"Confusion Matrix for XGBoost Classifier:\")\n",
    "print(confusion_matrix(y_test,predxgb))\n",
    "print(\"Score: \",round(accuracy_score(y_test,predxgb)*100,2))\n",
    "print(\"Classification Report:\")\n",
    "print(classification_report(y_test,predxgb))"
   ]
  },
  {
   "cell_type": "markdown",
   "id": "98746260",
   "metadata": {},
   "source": [
    "***\n",
    "8) Multilayer perceptron: Multilayer perceptron (MLP) is a technique of feed-forward artificial neural networks using a back propagation learning method to classify the target variable used for supervised learning."
   ]
  },
  {
   "cell_type": "code",
   "execution_count": 34,
   "id": "23e70ee5",
   "metadata": {},
   "outputs": [
    {
     "name": "stdout",
     "output_type": "stream",
     "text": [
      "Confusion Matrix for Multilayer Perceptron Classifier:\n",
      "[[ 65  33  15  14  18]\n",
      " [ 34  48  46  33  17]\n",
      " [ 11  32  98 109  53]\n",
      " [  6  20  96 364 227]\n",
      " [ 12   9  24 229 387]]\n",
      "Score: 48.1\n",
      "Classification Report:\n",
      "              precision    recall  f1-score   support\n",
      "\n",
      "           1       0.51      0.45      0.48       145\n",
      "           2       0.34      0.27      0.30       178\n",
      "           3       0.35      0.32      0.34       303\n",
      "           4       0.49      0.51      0.50       713\n",
      "           5       0.55      0.59      0.57       661\n",
      "\n",
      "    accuracy                           0.48      2000\n",
      "   macro avg       0.45      0.43      0.44      2000\n",
      "weighted avg       0.48      0.48      0.48      2000\n",
      "\n"
     ]
    }
   ],
   "source": [
    "from sklearn.neural_network import MLPClassifier\n",
    "mlp = MLPClassifier()\n",
    "mlp.fit(x_train,y_train)\n",
    "predmlp = mlp.predict(x_test)\n",
    "print(\"Confusion Matrix for Multilayer Perceptron Classifier:\")\n",
    "print(confusion_matrix(y_test,predmlp))\n",
    "print(\"Score:\",round(accuracy_score(y_test,predmlp)*100,2))\n",
    "print(\"Classification Report:\")\n",
    "print(classification_report(y_test,predmlp))"
   ]
  },
  {
   "cell_type": "markdown",
   "id": "c756fdda",
   "metadata": {},
   "source": [
    "***\n",
    "From the above results we can see the accuracies of all the models.\n",
    "* Multilayer Perceptron = 48.1%\n",
    "* Multinomial Naive Bayes = 48.1%\n",
    "* Gradient Boosting Classifier = 48%\n",
    "* XGBoost Classifier = 47.9%\n",
    "* Random Forest Classifier = 46.55%\n",
    "* Decision Tree = 37.75%\n",
    "* K Neighbor Classifier = 37%\n",
    "* Support Vector Machine  = 48.85%\n",
    "\n",
    "SVM gave the best results but not comparitively higher than other models. \n",
    "\n",
    "Almost every model results are identical except for decision tree and KNN classifiers.\n"
   ]
  },
  {
   "cell_type": "markdown",
   "id": "3d58f63e",
   "metadata": {},
   "source": [
    "# Testing\n"
   ]
  },
  {
   "cell_type": "code",
   "execution_count": 36,
   "id": "a1e25f54",
   "metadata": {},
   "outputs": [
    {
     "name": "stdout",
     "output_type": "stream",
     "text": [
      "Quiessence is, simply put, beautiful.  Full windows and earthy wooden walls give a feeling of warmth inside this restaurant perched in the middle of a farm.  The restaurant seemed fairly full even on a Tuesday evening; we had secured reservations just a couple days before.\n",
      "\n",
      "My friend and I had sampled sandwiches at the Farm Kitchen earlier that week, and were impressed enough to want to eat at the restaurant.  The crisp, fresh veggies didn't disappoint: we ordered the salad with orange and grapefruit slices and the crudites to start.  Both were very good; I didn't even know how much I liked raw radishes and turnips until I tried them with their pesto and aioli sauces.\n",
      "\n",
      "For entrees, I ordered the lamb and my friend ordered the pork shoulder.  Service started out very good, but trailed off quickly.  Waiting for our food took a very long time (a couple seated after us received and finished their entrees before we received our's), and no one bothered to explain the situation until the maitre'd apologized almost 45 minutes later.  Apparently the chef was unhappy with the sauce on my entree, so he started anew.  This isn't really a problem, but they should have communicated this to us earlier.  For our troubles, they comped me the glass of wine I ordered, but they forgot to bring out with my entree  as I had requested.  Also, they didn't offer us bread, but I will echo the lady who whispered this to us on her way out: ask for the bread.  We received warm foccacia, apple walnut, and pomegranate slices of wonder with honey and butter.  YUM.\n",
      "\n",
      "The entrees were both solid, but didn't quite live up to the innovation and freshness of the vegetables.  My lamb's sauce was delicious, but the meat was tough.  Maybe the vegetarian entrees are the way to go?  But our dessert, the gingerbread pear cake, was yet another winner.\n",
      "\n",
      "If the entrees were tad more inspired, or the service weren't so spotty, this place definitely would have warranted five stars.  If I return, I'd like to try the 75$ tasting menu.  Our bill came out to about 100$ for two people, including tip, no drinks.\n",
      "Actual Rating:  4\n",
      "Predicted Rating:\n"
     ]
    },
    {
     "data": {
      "text/plain": [
       "4"
      ]
     },
     "execution_count": 36,
     "metadata": {},
     "output_type": "execute_result"
    }
   ],
   "source": [
    "pr = data['text'][5]\n",
    "print(pr)\n",
    "print(\"Actual Rating: \",data['stars'][5])\n",
    "pr_t = vocab.transform([pr])\n",
    "print(\"Predicted Rating:\")\n",
    "mlp.predict(pr_t)[0]"
   ]
  },
  {
   "cell_type": "code",
   "execution_count": 37,
   "id": "fea3035a",
   "metadata": {},
   "outputs": [
    {
     "data": {
      "text/plain": [
       "5"
      ]
     },
     "execution_count": 37,
     "metadata": {},
     "output_type": "execute_result"
    }
   ],
   "source": [
    "# giving a random review to fit to the model and finding the rating\n",
    "rr= \"the restaurant was so lively. it has the atmosphere of fine dining yet keeping things so simple. The food was so delicious from appetizers to desserts. The prices are also modest so that an average person can afford. Top class.\"\n",
    "rr_t=vocab.transform([rr])\n",
    "mlp.predict(rr_t)[0]"
   ]
  },
  {
   "cell_type": "code",
   "execution_count": null,
   "id": "b00cc663",
   "metadata": {},
   "outputs": [],
   "source": []
  }
 ],
 "metadata": {
  "kernelspec": {
   "display_name": "Python 3 (ipykernel)",
   "language": "python",
   "name": "python3"
  },
  "language_info": {
   "codemirror_mode": {
    "name": "ipython",
    "version": 3
   },
   "file_extension": ".py",
   "mimetype": "text/x-python",
   "name": "python",
   "nbconvert_exporter": "python",
   "pygments_lexer": "ipython3",
   "version": "3.9.7"
  }
 },
 "nbformat": 4,
 "nbformat_minor": 5
}
